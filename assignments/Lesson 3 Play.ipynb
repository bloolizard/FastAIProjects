{
 "cells": [
  {
   "cell_type": "code",
   "execution_count": 2,
   "metadata": {
    "collapsed": false
   },
   "outputs": [
    {
     "name": "stderr",
     "output_type": "stream",
     "text": [
      "/Users/edwizzle/anaconda/lib/python2.7/site-packages/matplotlib/font_manager.py:273: UserWarning: Matplotlib is building the font cache using fc-list. This may take a moment.\n",
      "  warnings.warn('Matplotlib is building the font cache using fc-list. This may take a moment.')\n",
      "Using Theano backend.\n"
     ]
    }
   ],
   "source": [
    "%matplotlib inline\n",
    "import utils; reload(utils)\n",
    "from utils import *\n",
    "from __future__ import division, print_function"
   ]
  },
  {
   "cell_type": "code",
   "execution_count": 3,
   "metadata": {
    "collapsed": false
   },
   "outputs": [
    {
     "name": "stdout",
     "output_type": "stream",
     "text": [
      "Object `__future__` not found.\n"
     ]
    }
   ],
   "source": [
    "?? __future__"
   ]
  },
  {
   "cell_type": "code",
   "execution_count": 8,
   "metadata": {
    "collapsed": false
   },
   "outputs": [],
   "source": [
    "path = \"data/dogs-vs-cats/sample/\"\n",
    "model_path = path + \"models/\"\n",
    "batch_size=64"
   ]
  },
  {
   "cell_type": "code",
   "execution_count": 9,
   "metadata": {
    "collapsed": false
   },
   "outputs": [
    {
     "name": "stderr",
     "output_type": "stream",
     "text": [
      "/Users/edwizzle/anaconda/lib/python2.7/site-packages/keras/layers/core.py:621: UserWarning: `output_shape` argument not specified for layer lambda_1 and cannot be automatically inferred with the Theano backend. Defaulting to output shape `(None, 3, 224, 224)` (same as input shape). If the expected output shape is different, specify it via the `output_shape` argument.\n",
      "  .format(self.name, input_shape))\n"
     ]
    }
   ],
   "source": [
    "model = vgg_ft(2)"
   ]
  },
  {
   "cell_type": "code",
   "execution_count": 13,
   "metadata": {
    "collapsed": false
   },
   "outputs": [
    {
     "data": {
      "text/plain": [
       "[<keras.layers.core.Lambda at 0x11366a910>,\n",
       " <keras.layers.convolutional.ZeroPadding2D at 0x1137a24d0>,\n",
       " <keras.layers.convolutional.Convolution2D at 0x1137efb50>,\n",
       " <keras.layers.convolutional.ZeroPadding2D at 0x113fac890>,\n",
       " <keras.layers.convolutional.Convolution2D at 0x113fc8050>,\n",
       " <keras.layers.pooling.MaxPooling2D at 0x1137a2490>,\n",
       " <keras.layers.convolutional.ZeroPadding2D at 0x113ffc9d0>,\n",
       " <keras.layers.convolutional.Convolution2D at 0x11401b110>,\n",
       " <keras.layers.convolutional.ZeroPadding2D at 0x11403f190>,\n",
       " <keras.layers.convolutional.Convolution2D at 0x114053050>,\n",
       " <keras.layers.pooling.MaxPooling2D at 0x113ffc990>,\n",
       " <keras.layers.convolutional.ZeroPadding2D at 0x114075750>,\n",
       " <keras.layers.convolutional.Convolution2D at 0x114075250>,\n",
       " <keras.layers.convolutional.ZeroPadding2D at 0x114779b90>,\n",
       " <keras.layers.convolutional.Convolution2D at 0x11478fbd0>,\n",
       " <keras.layers.convolutional.ZeroPadding2D at 0x114e73b50>,\n",
       " <keras.layers.convolutional.Convolution2D at 0x114e8c650>,\n",
       " <keras.layers.pooling.MaxPooling2D at 0x114075710>,\n",
       " <keras.layers.convolutional.ZeroPadding2D at 0x1153303d0>,\n",
       " <keras.layers.convolutional.Convolution2D at 0x115339990>,\n",
       " <keras.layers.convolutional.ZeroPadding2D at 0x115342390>,\n",
       " <keras.layers.convolutional.Convolution2D at 0x114784b10>,\n",
       " <keras.layers.convolutional.ZeroPadding2D at 0x1160e39d0>,\n",
       " <keras.layers.convolutional.Convolution2D at 0x1161106d0>,\n",
       " <keras.layers.pooling.MaxPooling2D at 0x115330390>,\n",
       " <keras.layers.convolutional.ZeroPadding2D at 0x1185387d0>,\n",
       " <keras.layers.convolutional.Convolution2D at 0x1185502d0>,\n",
       " <keras.layers.convolutional.ZeroPadding2D at 0x11976fe50>,\n",
       " <keras.layers.convolutional.Convolution2D at 0x11977c450>,\n",
       " <keras.layers.convolutional.ZeroPadding2D at 0x1197a44d0>,\n",
       " <keras.layers.convolutional.Convolution2D at 0x11977c950>,\n",
       " <keras.layers.pooling.MaxPooling2D at 0x118538790>,\n",
       " <keras.layers.core.Flatten at 0x1197c7b90>,\n",
       " <keras.layers.core.Dense at 0x11a265850>,\n",
       " <keras.layers.core.Dropout at 0x11a26d850>,\n",
       " <keras.layers.core.Dense at 0x11a384890>,\n",
       " <keras.layers.core.Dropout at 0x11a390850>,\n",
       " <keras.layers.core.Dense at 0x11a39fbd0>]"
      ]
     },
     "execution_count": 13,
     "metadata": {},
     "output_type": "execute_result"
    }
   ],
   "source": [
    "model.layers"
   ]
  },
  {
   "cell_type": "code",
   "execution_count": null,
   "metadata": {
    "collapsed": true
   },
   "outputs": [],
   "source": []
  }
 ],
 "metadata": {
  "anaconda-cloud": {},
  "kernelspec": {
   "display_name": "Python [conda root]",
   "language": "python",
   "name": "conda-root-py"
  },
  "language_info": {
   "codemirror_mode": {
    "name": "ipython",
    "version": 2
   },
   "file_extension": ".py",
   "mimetype": "text/x-python",
   "name": "python",
   "nbconvert_exporter": "python",
   "pygments_lexer": "ipython2",
   "version": "2.7.12"
  }
 },
 "nbformat": 4,
 "nbformat_minor": 1
}
