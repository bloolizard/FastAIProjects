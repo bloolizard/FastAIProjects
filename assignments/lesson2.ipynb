{
 "cells": [
  {
   "cell_type": "code",
   "execution_count": 1,
   "metadata": {
    "collapsed": false
   },
   "outputs": [
    {
     "name": "stderr",
     "output_type": "stream",
     "text": [
      "/Users/edwizzle/anaconda/lib/python2.7/site-packages/matplotlib/font_manager.py:273: UserWarning: Matplotlib is building the font cache using fc-list. This may take a moment.\n",
      "  warnings.warn('Matplotlib is building the font cache using fc-list. This may take a moment.')\n"
     ]
    }
   ],
   "source": [
    "%matplotlib inline"
   ]
  },
  {
   "cell_type": "code",
   "execution_count": 2,
   "metadata": {
    "collapsed": false
   },
   "outputs": [
    {
     "name": "stderr",
     "output_type": "stream",
     "text": [
      "Using Theano backend.\n"
     ]
    }
   ],
   "source": [
    "import utils;reload(utils)\n",
    "from utils import *"
   ]
  },
  {
   "cell_type": "code",
   "execution_count": 4,
   "metadata": {
    "collapsed": true
   },
   "outputs": [],
   "source": [
    "% matplotlib inline\n",
    "from __future__ import division, print_function\n",
    "import os, json\n",
    "import numpy as np\n",
    "import scipy\n",
    "from sklearn.preprocessing import OneHotEncoder\n",
    "from sklearn.metrics import confusion_matrix\n",
    "np.set_printoptions(precision=4, linewidth=100)\n",
    "import utils; reload(utils)\n",
    "from utils import plots, get_batches, plot_confusion_matrix, get_data\n"
   ]
  },
  {
   "cell_type": "code",
   "execution_count": 6,
   "metadata": {
    "collapsed": false
   },
   "outputs": [],
   "source": [
    "from numpy.random import random, permutation\n",
    "from scipy import misc, ndimage\n",
    "from scipy.ndimage.interpolation import zoom\n",
    "\n",
    "import keras\n",
    "from keras import backend as K\n",
    "from keras.utils.data_utils import get_file\n",
    "from keras.models import Sequential\n",
    "from keras.layers.core import Flatten, Dense, Dropout, Lambda\n",
    "from keras.layers.convolutional import Convolution2D, MaxPooling2D, ZeroPadding2D\n",
    "from keras.optimizers import SGD, RMSprop\n",
    "from keras.preprocessing import image\n"
   ]
  },
  {
   "cell_type": "code",
   "execution_count": 10,
   "metadata": {
    "collapsed": false
   },
   "outputs": [],
   "source": [
    "x = random((30,2))\n",
    "y = np.dot(x, [2.,3.]) + 1"
   ]
  },
  {
   "cell_type": "code",
   "execution_count": 11,
   "metadata": {
    "collapsed": false
   },
   "outputs": [
    {
     "data": {
      "text/plain": [
       "array([[ 0.2023,  0.9632],\n",
       "       [ 0.2146,  0.8727],\n",
       "       [ 0.992 ,  0.4867],\n",
       "       [ 0.6442,  0.6702],\n",
       "       [ 0.0602,  0.8705],\n",
       "       [ 0.3899,  0.4459],\n",
       "       [ 0.177 ,  0.1449],\n",
       "       [ 0.202 ,  0.3466],\n",
       "       [ 0.5497,  0.5967],\n",
       "       [ 0.8112,  0.781 ],\n",
       "       [ 0.0347,  0.5359],\n",
       "       [ 0.416 ,  0.9414],\n",
       "       [ 0.4213,  0.2933],\n",
       "       [ 0.8873,  0.1628],\n",
       "       [ 0.6985,  0.7761],\n",
       "       [ 0.9484,  0.9   ],\n",
       "       [ 0.0108,  0.6422],\n",
       "       [ 0.0164,  0.4507],\n",
       "       [ 0.6832,  0.5737],\n",
       "       [ 0.89  ,  0.9512],\n",
       "       [ 0.2695,  0.5914],\n",
       "       [ 0.2141,  0.715 ],\n",
       "       [ 0.1769,  0.0465],\n",
       "       [ 0.1801,  0.8442],\n",
       "       [ 0.5212,  0.6193],\n",
       "       [ 0.5251,  0.0206],\n",
       "       [ 0.4387,  0.1409],\n",
       "       [ 0.1791,  0.6866],\n",
       "       [ 0.9273,  0.0923],\n",
       "       [ 0.3936,  0.5291]])"
      ]
     },
     "execution_count": 11,
     "metadata": {},
     "output_type": "execute_result"
    }
   ],
   "source": [
    "X"
   ]
  },
  {
   "cell_type": "code",
   "execution_count": null,
   "metadata": {
    "collapsed": true
   },
   "outputs": [],
   "source": []
  }
 ],
 "metadata": {
  "anaconda-cloud": {},
  "kernelspec": {
   "display_name": "Python [default]",
   "language": "python",
   "name": "python2"
  },
  "language_info": {
   "codemirror_mode": {
    "name": "ipython",
    "version": 2
   },
   "file_extension": ".py",
   "mimetype": "text/x-python",
   "name": "python",
   "nbconvert_exporter": "python",
   "pygments_lexer": "ipython2",
   "version": "2.7.12"
  }
 },
 "nbformat": 4,
 "nbformat_minor": 1
}
